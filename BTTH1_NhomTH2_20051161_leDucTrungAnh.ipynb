{
  "cells": [
    {
      "cell_type": "markdown",
      "metadata": {
        "id": "view-in-github",
        "colab_type": "text"
      },
      "source": [
        "<a href=\"https://colab.research.google.com/github/LeDucTrungAnh/phattrienhethongtichhop/blob/tuan1/BTTH1_NhomTH2_20051161_leDucTrungAnh.ipynb\" target=\"_parent\"><img src=\"https://colab.research.google.com/assets/colab-badge.svg\" alt=\"Open In Colab\"/></a>"
      ]
    },
    {
      "cell_type": "markdown",
      "metadata": {
        "id": "C3P63eNkjJla"
      },
      "source": [
        "# Họ và tên: Lê Đức Trung Anh\n",
        "# MSSV:20051161\n",
        "# Lớp học phần - Nhóm TH:"
      ]
    },
    {
      "cell_type": "markdown",
      "metadata": {
        "id": "RCdBBIbgjJlc"
      },
      "source": [
        "# 1. Hello world!"
      ]
    },
    {
      "cell_type": "code",
      "execution_count": null,
      "metadata": {
        "id": "G70osvtQjJld",
        "outputId": "1f0f719c-ad17-4b6b-fddc-9829cbddc83a"
      },
      "outputs": [
        {
          "name": "stdout",
          "output_type": "stream",
          "text": [
            "hello world\n"
          ]
        }
      ],
      "source": [
        "print(\"hello world\")"
      ]
    },
    {
      "cell_type": "markdown",
      "metadata": {
        "id": "0-Z4dJ5YjJle"
      },
      "source": [
        "# 2. Program to Add Two Numbers"
      ]
    },
    {
      "cell_type": "markdown",
      "metadata": {
        "id": "CdngJga-jJle"
      },
      "source": [
        "## Add Two Numbers"
      ]
    },
    {
      "cell_type": "code",
      "execution_count": null,
      "metadata": {
        "id": "e8KrFEHPjJle",
        "outputId": "3ff86654-9aea-4116-b531-db6b76b207c8"
      },
      "outputs": [
        {
          "name": "stdout",
          "output_type": "stream",
          "text": [
            "tong cua 2 so nay la : 7.8\n"
          ]
        }
      ],
      "source": [
        "num1 = 1.5\n",
        "num2 = 6.3\n",
        "\n",
        "### START CODE HERE ###\n",
        "# Add two numbers\n",
        "\n",
        "sum = num1 + num2\n",
        "\n",
        "# Display the sum\n",
        "print(\"tong cua 2 so nay la :\",sum)"
      ]
    },
    {
      "cell_type": "markdown",
      "metadata": {
        "id": "xtb9PijLjJlf"
      },
      "source": [
        "##  Add Two Numbers With User Input"
      ]
    },
    {
      "cell_type": "code",
      "execution_count": 1,
      "metadata": {
        "colab": {
          "base_uri": "https://localhost:8080/"
        },
        "id": "6wDRsBCRjJlf",
        "outputId": "7073f33c-00dc-4ac8-f15a-957d6cd7841d"
      },
      "outputs": [
        {
          "output_type": "stream",
          "name": "stdout",
          "text": [
            "Enter the first number: 2\n",
            "Enter the second number: 3\n",
            "The sum of 2.0 and 3.0 is 5.0\n",
            "20\n"
          ]
        }
      ],
      "source": [
        "# Store input numbers\n",
        "num1 = 10\n",
        "num2 = 10\n",
        "### START CODE HERE ###\n",
        "\n",
        "# Add two numbers\n",
        "\n",
        "number1 = float(input(\"Enter the first number: \"))\n",
        "number2 = float(input(\"Enter the second number: \"))\n",
        "\n",
        "# Add the two numbers\n",
        "result = number1 + number2\n",
        "\n",
        "# Display the result\n",
        "print(\"The sum of\", number1, \"and\", number2, \"is\", result)\n",
        "\n",
        "### END CODE HERE ###\n",
        "sum = num1 + num2\n",
        "print (sum)\n",
        "# Display the sum\n"
      ]
    },
    {
      "cell_type": "markdown",
      "metadata": {
        "id": "xjFaQkAqjJlf"
      },
      "source": [
        "# 3. Program to Find the Square Root"
      ]
    },
    {
      "cell_type": "code",
      "execution_count": 3,
      "metadata": {
        "colab": {
          "base_uri": "https://localhost:8080/"
        },
        "id": "jxxaRkLpjJlf",
        "outputId": "cd254d72-a099-4bdb-8c16-681c28c3c588"
      },
      "outputs": [
        {
          "output_type": "stream",
          "name": "stdout",
          "text": [
            "Enter the first number: 9\n",
            "Căn bậc 2 của 9.0 là: 3.0\n"
          ]
        }
      ],
      "source": [
        "# Python Program to calculate the square root\n",
        "\n",
        "# Note: change this value for a different result\n",
        "num = 8\n",
        "import math\n",
        "# To take the input from the user\n",
        "#num = float(input('Enter a number: '))\n",
        "number1 = float(input(\"Enter the first number: \"))\n",
        "\n",
        "# calculate the square root\n",
        "if number1 < 0:\n",
        "    print(\"Không thể tính căn bậc 2 của số âm.\")\n",
        "else:\n",
        "    # Tính căn bậc 2 và in kết quả\n",
        "    can_bac_2 = math.sqrt(number1)\n",
        "    print(f\"Căn bậc 2 của {number1} là: {can_bac_2}\")\n",
        "\n",
        "# print the value of the square root\n",
        "\n"
      ]
    },
    {
      "cell_type": "markdown",
      "metadata": {
        "id": "SlYAdQ6AjJlf"
      },
      "source": [
        "# 4. Program to Calculate the Area of a Triangle\n",
        "s = (a+b+c)/2\n",
        "\n",
        "area = √(s(s-a)*(s-b)*(s-c))"
      ]
    },
    {
      "cell_type": "code",
      "execution_count": 7,
      "metadata": {
        "colab": {
          "base_uri": "https://localhost:8080/"
        },
        "id": "ohhvFJ9jjJlg",
        "outputId": "6345c5d6-7269-494b-c8c6-ab5bfd3638b3"
      },
      "outputs": [
        {
          "output_type": "stream",
          "name": "stdout",
          "text": [
            "Enter the first number: 5\n",
            "Enter the first number: 6\n",
            "Enter the first number: 2\n",
            "The area of the triangle is 4.68\n"
          ]
        }
      ],
      "source": [
        "### START CODE HERE ###\n",
        "\n",
        "# take inputs from the user\n",
        "a  = float(input(\"Enter the first number: \"))\n",
        "b  = float(input(\"Enter the first number: \"))\n",
        "c  = float(input(\"Enter the first number: \"))\n",
        "\n",
        "\n",
        "# calculate the semi-perimeter\n",
        "s = (a+b+c)/2\n",
        "\n",
        "# calculate the area\n",
        "area = math.sqrt((s*(s-a)*(s-b)*(s-c)))\n",
        "\n",
        "### END CODE HERE ###\n",
        "\n",
        "print('The area of the triangle is %0.2f' %area)"
      ]
    },
    {
      "cell_type": "markdown",
      "metadata": {
        "id": "A6wxxoK5jJlg"
      },
      "source": [
        "# 5. Program to Solve Quadratic Equation\n",
        "ax2 + bx + c = 0, where a, b and c are real numbers and a ≠ 0"
      ]
    },
    {
      "cell_type": "code",
      "execution_count": 12,
      "metadata": {
        "colab": {
          "base_uri": "https://localhost:8080/"
        },
        "id": "Uauzjk3ojJlg",
        "outputId": "b97d8d2e-c2de-417d-ee85-61b980b31a8a"
      },
      "outputs": [
        {
          "output_type": "stream",
          "name": "stdout",
          "text": [
            "Enter the first number: 5\n",
            "Enter the first number: 2\n",
            "Enter the first number: -1\n",
            "Phương trình có hai nghiệm: x1 = 0.2898979485566356 và x2 = -0.6898979485566356\n",
            "The solution are 0.2898979485566356 and -0.6898979485566356\n"
          ]
        }
      ],
      "source": [
        "import cmath\n",
        "\n",
        "### START CODE HERE ###\n",
        "\n",
        "# take inputs from the user\n",
        "a = float(input(\"Enter the first number: \"))\n",
        "b = float(input(\"Enter the first number: \"))\n",
        "c = float(input(\"Enter the first number: \"))\n",
        "\n",
        "# calculate the discriminant\n",
        "\n",
        "delta = b**2 - 4*a*c\n",
        "if delta > 0:\n",
        "    x1 = (-b + math.sqrt(delta)) / (2*a)\n",
        "    x2 = (-b - math.sqrt(delta)) / (2*a)\n",
        "    print(f\"Phương trình có hai nghiệm: x1 = {x1} và x2 = {x2}\")\n",
        "elif delta == 0:\n",
        "    x = -b / (2*a)\n",
        "    print(f\"Phương trình có một nghiệm kép: x = {x}\")\n",
        "else:\n",
        "    print(\"Phương trình vô nghiệm.\")\n",
        "\n",
        "\n",
        "\n",
        "\n",
        "\n",
        "\n",
        "\n",
        "\n",
        "\n",
        "### END CODE HERE ###\n",
        "\n",
        "print('The solution are {0} and {1}'.format(x1,x2))"
      ]
    },
    {
      "cell_type": "markdown",
      "metadata": {
        "id": "h-aLzo9ejJlg"
      },
      "source": [
        "# 6. Program to Swap Two Variables"
      ]
    },
    {
      "cell_type": "code",
      "execution_count": 20,
      "metadata": {
        "colab": {
          "base_uri": "https://localhost:8080/"
        },
        "id": "zTLVGasijJlg",
        "outputId": "007ee90e-2f96-4a16-ea58-c07ee036a69f"
      },
      "outputs": [
        {
          "output_type": "stream",
          "name": "stdout",
          "text": [
            "Nhập giá trị biến x: 3\n",
            "Nhập giá trị biến y: 4\n",
            "value after swap:\n",
            "x = 4\n",
            "y = 3\n",
            "Memory address of x: 134320422391472\n",
            "Memory address of y: 134320422389744\n",
            "Memory address of c: 134320422389744\n"
          ]
        }
      ],
      "source": [
        "# To take inputs from the user\n",
        "\n",
        "x = input(\"Nhập giá trị biến x: \")\n",
        "y = input(\"Nhập giá trị biến y: \")\n",
        "# create a temporary variable and swap the values\n",
        "c = x\n",
        "x = y\n",
        "y = c\n",
        "# Print the c=value of x, y after swapping\n",
        "print(\"value after swap:\")\n",
        "print(\"x =\", x)\n",
        "print(\"y =\", y)\n",
        "address_x = id(x)\n",
        "address_y = id(y)\n",
        "address_c = id(c)\n",
        "\n",
        "# Print the memory addresses\n",
        "print(f\"Memory address of x: {address_x}\")\n",
        "print(f\"Memory address of y: {address_y}\")\n",
        "print(f\"Memory address of c: {address_c}\")\n"
      ]
    },
    {
      "cell_type": "code",
      "execution_count": null,
      "metadata": {
        "id": "r0kWNzPsjJlg"
      },
      "outputs": [],
      "source": [
        "### START CODE HERE ###\n",
        "# writing code to get the address (in RAM) of x, y, temp through the built-in function id()\n",
        "address_x = id(x)\n",
        "address_y = id(y)\n",
        "address_c = id(c)\n",
        "\n",
        "# Print the memory addresses\n",
        "print(f\"Memory address of x: {address_x}\")\n",
        "print(f\"Memory address of y: {address_y}\")\n",
        "print(f\"Memory address of c: {address_c}\")\n",
        "### END CODE HERE ###"
      ]
    },
    {
      "cell_type": "markdown",
      "metadata": {
        "id": "L-hBIW34jJlg"
      },
      "source": [
        "# 7. Program to Generate a Random Number\n",
        "https://docs.python.org/3/library/random.html"
      ]
    },
    {
      "cell_type": "code",
      "execution_count": 24,
      "metadata": {
        "colab": {
          "base_uri": "https://localhost:8080/"
        },
        "id": "zu4Z5z1EjJlg",
        "outputId": "9d4444f0-767a-4ea6-fb2c-b7b61a3df908"
      },
      "outputs": [
        {
          "output_type": "stream",
          "name": "stdout",
          "text": [
            "5\n",
            "8\n",
            "6\n",
            "0.7985473249041007\n",
            "3.983319087513556\n"
          ]
        }
      ],
      "source": [
        "# Program to generate a random number between 0 and 9\n",
        "\n",
        "# importing the random module\n",
        "import random\n",
        "\n",
        "print(random.randint(0,9))\n",
        "\n",
        "# Uncomment to try different function in random module\n",
        "print(random.randrange(9))\n",
        "print(random.randrange(3,9))\n",
        "print(random.random())\n",
        "print(random.uniform(a,b))\n"
      ]
    },
    {
      "cell_type": "markdown",
      "metadata": {
        "id": "RrDaYBnZjJlh"
      },
      "source": [
        "# 8. Program to Convert Kilometers to Miles\n",
        "1 km = (1/1.609344) mi = 0.62137119 mi"
      ]
    },
    {
      "cell_type": "code",
      "execution_count": null,
      "metadata": {
        "id": "g02TRepLjJlh",
        "outputId": "749ee45d-e786-49b4-fe2e-77a7199546c4"
      },
      "outputs": [
        {
          "name": "stdout",
          "output_type": "stream",
          "text": [
            "56.00 kilometers is equal to 34.80 miles\n"
          ]
        }
      ],
      "source": [
        "# Taking kilometers input from the user\n",
        "kilometers = float(input(\"Enter value in kilometers: \"))\n",
        "\n",
        "# conversion factor\n",
        "conv_fac = 0.621371\n",
        "\n",
        "# calculate miles\n",
        "miles = kilometers * conv_fac\n",
        "print('%0.2f kilometers is equal to %0.2f miles' %(kilometers,miles))"
      ]
    },
    {
      "cell_type": "code",
      "execution_count": 27,
      "metadata": {
        "colab": {
          "base_uri": "https://localhost:8080/"
        },
        "id": "dKQeNBMDjJlh",
        "outputId": "ad78b9e3-1ca1-4553-d7c0-0f94f894a24c"
      },
      "outputs": [
        {
          "output_type": "stream",
          "name": "stdout",
          "text": [
            "Enter distance in miles: 34\n",
            "34.0 miles is equal to 54.71756 kilometers\n"
          ]
        }
      ],
      "source": [
        "### START CODE HERE ###\n",
        "# writing code to convert miles to kilometers\n",
        "miles = float(input(\"Enter distance in miles: \"))\n",
        "kilometers = miles * 1.60934\n",
        "print(f\"{miles} miles is equal to {kilometers} kilometers\")\n",
        "### END CODE HERE ###"
      ]
    },
    {
      "cell_type": "markdown",
      "metadata": {
        "id": "rU5sgXajjJlh"
      },
      "source": [
        "# 9. Program to Convert Celsius To Fahrenheit\n",
        "T(°F) = T(°C) × 1.8 + 32"
      ]
    },
    {
      "cell_type": "code",
      "execution_count": 28,
      "metadata": {
        "colab": {
          "base_uri": "https://localhost:8080/"
        },
        "id": "GNG_K9-ujJlh",
        "outputId": "bc1de6c9-5a13-43a3-eb93-578e7a6cbf96"
      },
      "outputs": [
        {
          "output_type": "stream",
          "name": "stdout",
          "text": [
            "Enter temperature in Celsius: 100\n",
            "100.0 degrees Celsius is equal to 212.0 degrees Fahrenheit\n"
          ]
        }
      ],
      "source": [
        "### START CODE HERE ###\n",
        "# Taking celsius input from the user\n",
        "celsius = float(input(\"Enter temperature in Celsius: \"))\n",
        "\n",
        "\n",
        "\n",
        "\n",
        "# calculate Fahrenheit\n",
        "fahrenheit = (celsius * 9/5) + 32\n",
        "\n",
        "# print result\n",
        "print(f\"{celsius} degrees Celsius is equal to {fahrenheit} degrees Fahrenheit\")\n",
        "### END CODE HERE ###"
      ]
    },
    {
      "cell_type": "code",
      "source": [],
      "metadata": {
        "id": "8_6mIp3SvTYT"
      },
      "execution_count": null,
      "outputs": []
    }
  ],
  "metadata": {
    "kernelspec": {
      "display_name": "Python 3",
      "language": "python",
      "name": "python3"
    },
    "language_info": {
      "codemirror_mode": {
        "name": "ipython",
        "version": 3
      },
      "file_extension": ".py",
      "mimetype": "text/x-python",
      "name": "python",
      "nbconvert_exporter": "python",
      "pygments_lexer": "ipython3",
      "version": "3.11.5"
    },
    "colab": {
      "provenance": [],
      "include_colab_link": true
    }
  },
  "nbformat": 4,
  "nbformat_minor": 0
}