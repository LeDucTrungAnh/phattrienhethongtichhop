{
  "cells": [
    {
      "cell_type": "markdown",
      "metadata": {
        "id": "view-in-github",
        "colab_type": "text"
      },
      "source": [
        "<a href=\"https://colab.research.google.com/github/LeDucTrungAnh/phattrienhethongtichhop/blob/tuan-2/BTTH3_NhomTH2_20051161_LeDucTrungAnh.ipynb\" target=\"_parent\"><img src=\"https://colab.research.google.com/assets/colab-badge.svg\" alt=\"Open In Colab\"/></a>"
      ]
    },
    {
      "cell_type": "markdown",
      "metadata": {
        "id": "rUmCFtPOjMdL"
      },
      "source": [
        "# 1. Hiển thị tên máy hiện tại, sử dụng hàm gethostname()"
      ]
    },
    {
      "cell_type": "code",
      "execution_count": 1,
      "metadata": {
        "colab": {
          "base_uri": "https://localhost:8080/"
        },
        "id": "MmO8YeWHjMdN",
        "outputId": "59966edf-4b2d-4ab5-95ca-c499e43b6411"
      },
      "outputs": [
        {
          "output_type": "stream",
          "name": "stdout",
          "text": [
            "Host name 87847afadb8d\n"
          ]
        }
      ],
      "source": [
        "import socket\n",
        "host_name = socket.gethostname()\n",
        "print(\"Host name\", host_name)"
      ]
    },
    {
      "cell_type": "markdown",
      "metadata": {
        "id": "AypuwlagjMdP"
      },
      "source": [
        "# 2. Hiển thị đc IP của máy đang sử dụng, sử dụng hàm gethostbyname(tenmay)"
      ]
    },
    {
      "cell_type": "code",
      "execution_count": 2,
      "metadata": {
        "colab": {
          "base_uri": "https://localhost:8080/"
        },
        "id": "ouP4kngUjMdP",
        "outputId": "b07325ca-d22f-4930-f6e0-8654468e993d"
      },
      "outputs": [
        {
          "output_type": "stream",
          "name": "stdout",
          "text": [
            "IP address of 87847afadb8d is 172.28.0.12\n"
          ]
        }
      ],
      "source": [
        "import socket\n",
        "host_name = socket.gethostname()\n",
        "ip_address = socket.gethostbyname(host_name)\n",
        "print(\"IP address of \"+ host_name + \" is \" + ip_address)"
      ]
    },
    {
      "cell_type": "markdown",
      "metadata": {
        "id": "g62lc3DijMdQ"
      },
      "source": [
        "# 3. Viết đoạn script cho phép người dùng lấy địa chỉ IP của máy hiện tại"
      ]
    },
    {
      "cell_type": "code",
      "execution_count": 5,
      "metadata": {
        "colab": {
          "base_uri": "https://localhost:8080/"
        },
        "id": "haQ4i1TujMdQ",
        "outputId": "f20be81f-520e-49f5-c817-e73326315962"
      },
      "outputs": [
        {
          "output_type": "stream",
          "name": "stdout",
          "text": [
            "Địa chỉ IP của máy đang sử dụng: 172.28.0.12\n"
          ]
        }
      ],
      "source": [
        "# Viet theo dang ham (function)\n",
        "import socket\n",
        "\n",
        "def get_local_ip():\n",
        "    try:\n",
        "        # Lấy tên máy tính hiện tại\n",
        "        host_name = socket.gethostname()\n",
        "        # Lấy địa chỉ IP tương ứng với tên máy tính\n",
        "        ip_address = socket.gethostbyname(host_name)\n",
        "        return ip_address\n",
        "    except socket.error:\n",
        "        return None\n",
        "\n",
        "def main():\n",
        "    local_ip = get_local_ip()\n",
        "    if local_ip:\n",
        "        print(\"Địa chỉ IP của máy đang sử dụng:\", local_ip)\n",
        "    else:\n",
        "        print(\"Không thể lấy được địa chỉ IP.\")\n",
        "\n",
        "\n",
        "# start code HERE\n",
        "if __name__ == \"__main__\":\n",
        "    main()"
      ]
    },
    {
      "cell_type": "markdown",
      "metadata": {
        "id": "ZoGAm_pyjMdQ"
      },
      "source": [
        "# 4. Truy vấn địa chỉ IP ở xa\n",
        "Khi một thiết bị kết nối vào mạng Internet muốn trao đổi thông tin với các thiết bị khác trong mạng, thiết bị đó cần được cấp một đcIP xác định và phải biết được đcIP của thiết bị mình cần tương tác.\n",
        "\n",
        "Vậy làm cách nào bạn có thể dịch tên của host_name thành đcIP?\n",
        "\n",
        "Vd: muốn biết đcIP của tuoitre.vn hoặc google.com -> gethostbyname()"
      ]
    },
    {
      "cell_type": "code",
      "execution_count": 6,
      "metadata": {
        "colab": {
          "base_uri": "https://localhost:8080/"
        },
        "id": "bf2_LcTEjMdQ",
        "outputId": "dc5d9cc0-b9a5-435c-f1c1-cb2bfa76dba7"
      },
      "outputs": [
        {
          "output_type": "stream",
          "name": "stdout",
          "text": [
            "Địa chỉ IP của tuoitre.net là 184.168.221.55\n",
            "Địa chỉ IP của google.com là 108.177.126.113\n"
          ]
        }
      ],
      "source": [
        "### START CODE HERE ###\n",
        "import socket\n",
        "\n",
        "def query_ip_address(host_name):\n",
        "    try:\n",
        "        # Truy vấn địa chỉ IP từ tên của host\n",
        "        ip_address = socket.gethostbyname(host_name)\n",
        "        return f\"Địa chỉ IP của {host_name} là {ip_address}\"\n",
        "    except socket.gaierror:\n",
        "        return f\"Không thể truy vấn địa chỉ IP của {host_name}\"\n",
        "\n",
        "# Ví dụ sử dụng\n",
        "print(query_ip_address(\"tuoitre.net\"))\n",
        "print(query_ip_address(\"google.com\"))"
      ]
    },
    {
      "cell_type": "markdown",
      "metadata": {
        "id": "ob42ohOCjMdQ"
      },
      "source": [
        "# 5. Chuyển đc IPv4 sang định dạng khác\n",
        "Địa chỉ IPv4 là một dãy số nhị phân 32-bit. Tuy nhiên, để thuận tiện cho người dùng, thông thường nó được thể hiển theo dạng chuỗi bao gồm 4 octet cách nhau bởi dấu (.) chấm (Vd: 192.168.0.1)\n",
        "\n",
        "Trường hợp ký hiệu địa chỉ IP (dạng X.X.X.X)không phù hợp với các xử lý trong lập trình, khi đó chúng cần được chuyển đổi sang các định dạng nhị phân 32 bit."
      ]
    },
    {
      "cell_type": "code",
      "execution_count": 7,
      "metadata": {
        "colab": {
          "base_uri": "https://localhost:8080/"
        },
        "id": "HmggRQu5jMdQ",
        "outputId": "40bf98bc-dc96-406f-e2d5-4287c83123da"
      },
      "outputs": [
        {
          "output_type": "stream",
          "name": "stdout",
          "text": [
            "Địa chỉ IP 192.168.0.1 trong dạng nhị phân 32-bit là c0a80001\n",
            "Địa chỉ IP 256.256.256.256 không hợp lệ\n"
          ]
        }
      ],
      "source": [
        "\n",
        "import socket\n",
        "\n",
        "def ip_to_binary(ip_address):\n",
        "    try:\n",
        "        # Chuyển đổi địa chỉ IP sang dạng nhị phân 32-bit\n",
        "        binary_ip = socket.inet_aton(ip_address)\n",
        "        return f\"Địa chỉ IP {ip_address} trong dạng nhị phân 32-bit là {binary_ip.hex()}\"\n",
        "    except socket.error:\n",
        "        return f\"Địa chỉ IP {ip_address} không hợp lệ\"\n",
        "\n",
        "# Ví dụ sử dụng\n",
        "print(ip_to_binary(\"192.168.0.1\"))\n",
        "print(ip_to_binary(\"256.256.256.256\"))  # Địa chỉ IP không hợp lệ"
      ]
    },
    {
      "cell_type": "markdown",
      "metadata": {
        "id": "TI6lnzVnjMdR"
      },
      "source": [
        "# 6. Sinh viên hãy cho biết kết quả của 2 câu lệnh dưới đây\n",
        "import socket\n",
        "\n",
        "help(socket.inet_ntoa)"
      ]
    },
    {
      "cell_type": "code",
      "execution_count": null,
      "metadata": {
        "id": "V4L5XsCajMdR"
      },
      "outputs": [],
      "source": [
        "#Sinh viên ghi kết qủa\n"
      ]
    },
    {
      "cell_type": "code",
      "execution_count": null,
      "metadata": {
        "id": "Xd7wIvnSjMdR"
      },
      "outputs": [],
      "source": [
        "### START CODE HERE ###\n",
        "# writing code to get the address (in RAM) of x, y, temp through the built-in function id()\n",
        "x = 10\n",
        "y = 20\n",
        "temp = \"hello\"\n",
        "\n",
        "# Lấy địa chỉ bộ nhớ sử dụng id() và hiển thị chúng\n",
        "print(f\"The address of x is {id(x)}\")\n",
        "print(f\"The address of y is {id(y)}\")\n",
        "print(f\"The address of temp is {id(temp)}\")\n",
        "### END CODE HERE ###"
      ]
    },
    {
      "cell_type": "markdown",
      "metadata": {
        "id": "tIfHnWkbjMdR"
      },
      "source": [
        "# 7. Sinh viên hãy cho biết kết quả của 2 câu lệnh dưới đây:\n",
        "\n",
        "![image.png](attachment:image.png)"
      ]
    },
    {
      "cell_type": "code",
      "execution_count": 8,
      "metadata": {
        "colab": {
          "base_uri": "https://localhost:8080/"
        },
        "id": "78n9CABZjMdR",
        "outputId": "6d5d3eb2-1cdb-4636-f300-50d6b92ad6d9"
      },
      "outputs": [
        {
          "output_type": "stream",
          "name": "stdout",
          "text": [
            "IP Address: 127.0.0.1 => Packed: b'7f000001', Unpacked: 127.0.0.1\n",
            "IP Address: 192.168.0.1 => Packed: b'c0a80001', Unpacked: 192.168.0.1\n"
          ]
        }
      ],
      "source": [
        "#  Start Code HERE\n",
        "import socket\n",
        "from binascii import hexlify\n",
        "def convert_ip4_address():\n",
        "    for ip_addr in['127.0.0.1', '192.168.0.1']:\n",
        "        packed_ip_addr = socket.inet_aton(ip_addr)\n",
        "        unpacked_ip_addr = socket.inet_ntoa(packed_ip_addr)\n",
        "        print(\"IP Address: %s => Packed: %s, Unpacked: %s\" %(ip_addr, hexlify(packed_ip_addr), unpacked_ip_addr))\n",
        "\n",
        "if __name__ == '__main__':\n",
        "    convert_ip4_address()\n",
        "\n",
        "\n",
        "\n",
        "# Write Result HERE\n",
        "#IP Address: 127.0.0.1 => Packed: b'7f000001', Unpacked: 127.0.0.1\n",
        "#IP Address: 127.0.0.1 => Packed: b'7f000001', Unpacked: 127.0.0.1\n",
        "IP Address: 192.168.0.1 => Packed: b'c0a80001', Unpacked: 192.168.0.1"
      ]
    },
    {
      "cell_type": "markdown",
      "metadata": {
        "id": "nbu7IDwXjMdR"
      },
      "source": [
        "# 8. ICMP Echo Request\n",
        "ICMP Echo Request được biết đến bằng cách sử dụng lệnh ping. Gói ICMP được gửi đến máy chủ bằng địa chỉ IP và trả về kết quả thông qua trường TYPE. Dựa vào giá trị của TYPE để xác định tình trạng của máy chủ hiện tại.\n",
        "\n",
        "Một số giá trị của TYPE:\n",
        "\n",
        "0: Echo Reply\n",
        "\n",
        "2: No response\n",
        "\n",
        "...\n",
        "\n",
        "Sinh viên thực hoàn thành đoạn code sau và cho biết kết quả\n",
        "\n",
        "![image.png](attachment:image.png)"
      ]
    },
    {
      "cell_type": "code",
      "execution_count": 13,
      "metadata": {
        "colab": {
          "base_uri": "https://localhost:8080/"
        },
        "id": "wi-PgxsRjMdS",
        "outputId": "fc4f0bac-a24d-42ef-85ea-c26e07047f12"
      },
      "outputs": [
        {
          "output_type": "stream",
          "name": "stdout",
          "text": [
            "/bin/bash: line 1: import: command not found\n",
            "Type value: 0\n",
            "Ping to www.google.com OK\n"
          ]
        }
      ],
      "source": [
        "#  Start Code HERE\n",
        "\n",
        "!import subprocess\n",
        "\n",
        "address = \"www.google.com\"\n",
        "res = subprocess.call(['ping', '-c', '4', address])  # Thêm '-c' để chỉ định số gói tin ping\n",
        "\n",
        "print(\"Type value:\", str(res))\n",
        "\n",
        "if res == 0:\n",
        "    print(\"Ping to\", address, \"OK\")\n",
        "elif res == 2:\n",
        "    print(\"No response from\", address)\n",
        "else:\n",
        "    print(\"Ping to\", address, \"failed!\")\n",
        "\n",
        "\n",
        "\n",
        "\n",
        "\n",
        "# Write Result HERE\n",
        "#\n",
        "#"
      ]
    },
    {
      "cell_type": "code",
      "execution_count": null,
      "metadata": {
        "id": "-LaL_XxHjMdS"
      },
      "outputs": [],
      "source": [
        "### START CODE HERE ###\n",
        "#\n",
        "\n",
        "### END CODE HERE ###"
      ]
    },
    {
      "cell_type": "code",
      "source": [
        "!apt-get install iputils-ping"
      ],
      "metadata": {
        "colab": {
          "base_uri": "https://localhost:8080/"
        },
        "id": "qYgGcsOqv8dd",
        "outputId": "ba8095da-565b-48f8-ed11-a8f38f7a0a09"
      },
      "execution_count": 10,
      "outputs": [
        {
          "output_type": "stream",
          "name": "stdout",
          "text": [
            "Reading package lists... Done\n",
            "Building dependency tree... Done\n",
            "Reading state information... Done\n",
            "The following NEW packages will be installed:\n",
            "  iputils-ping\n",
            "0 upgraded, 1 newly installed, 0 to remove and 18 not upgraded.\n",
            "Need to get 42.9 kB of archives.\n",
            "After this operation, 116 kB of additional disk space will be used.\n",
            "Get:1 http://archive.ubuntu.com/ubuntu jammy/main amd64 iputils-ping amd64 3:20211215-1 [42.9 kB]\n",
            "Fetched 42.9 kB in 0s (136 kB/s)\n",
            "Selecting previously unselected package iputils-ping.\n",
            "(Reading database ... 120895 files and directories currently installed.)\n",
            "Preparing to unpack .../iputils-ping_3%3a20211215-1_amd64.deb ...\n",
            "Unpacking iputils-ping (3:20211215-1) ...\n",
            "Setting up iputils-ping (3:20211215-1) ...\n",
            "Processing triggers for man-db (2.10.2-1) ...\n"
          ]
        }
      ]
    },
    {
      "cell_type": "markdown",
      "metadata": {
        "id": "icM6yKWJjMdS"
      },
      "source": [
        "# BÀI TẬP\n",
        "Bài 1: Hãy thực thi câu lệnh sau và cho biết kết quả:\n",
        "\n",
        "a)\n",
        "\n",
        "import socket\n",
        "\n",
        "help(socket.gethostname)\n",
        "\n",
        "b)\n",
        "\n",
        "import socket\n",
        "\n",
        "help(socket.gethostbyname)\n",
        "\n",
        "Bài 2: Sinh viên hãy thực hiện lại thí dụ 4, với Input hostname nhập vào là 255.255.255.256, hãy giải thích kết quả nhận được.  \n",
        "\n",
        "Bài 3: Hãy cải tiến thí dụ 4 bằng cách sử dụng vòng lặp cho phép người dùng liên tục nhập hostname và in ra địa chỉ IP, vòng lặp chỉ kết thúc khi người dùng nhập phím Q.\n",
        "\n",
        "Bài 4: Trong thí dụ 8, có sử dụng hàm subprocess, sinh viên hãy tìm hiểu và trình bày hàm subprocess, có giải thích và thí dụ minh họa.\n"
      ]
    },
    {
      "cell_type": "code",
      "execution_count": 19,
      "metadata": {
        "colab": {
          "base_uri": "https://localhost:8080/"
        },
        "id": "f9Uwkw3ojMdS",
        "outputId": "6f8b9045-8e5a-4825-aab8-ceab69bd8283"
      },
      "outputs": [
        {
          "output_type": "stream",
          "name": "stdout",
          "text": [
            "Help on built-in function gethostname in module _socket:\n",
            "\n",
            "gethostname(...)\n",
            "    gethostname() -> string\n",
            "    \n",
            "    Return the current host name.\n",
            "\n",
            "Help on built-in function gethostbyname in module _socket:\n",
            "\n",
            "gethostbyname(...)\n",
            "    gethostbyname(host) -> address\n",
            "    \n",
            "    Return the IP address (a string of the form '255.255.255.255') for a host.\n",
            "\n",
            "Không thể truy vấn địa chỉ IP của 255.255.255.256\n",
            "Vui lòng nhập hostname (hoặc nhập 'Q' để thoát): q\n",
            "Chương trình kết thúc. Tạm biệt!\n",
            "STDOUT: sample_data\n",
            "\n",
            "STDERR: \n",
            "ping to www.google.com OK\n"
          ]
        }
      ],
      "source": [
        "### START CODE HERE ###\n",
        "#Bài 1 )\n",
        "# a)\n",
        "import socket\n",
        "help(socket.gethostname)\n",
        "#RESULT\n",
        "#   Help on built-in function gethostname in module _socket:\n",
        "#   gethostname(...)\n",
        "#   gethostname() -> string\n",
        "#   Return the current host name.\n",
        "\n",
        "# b)\n",
        "import socket\n",
        "help(socket.gethostbyname)\n",
        "#RESULT\n",
        "#   Help on built-in function gethostbyname in module _socket:\n",
        "#   gethostbyname(...)\n",
        "#   gethostbyname(host) -> address\n",
        "#    Return the IP address (a string of the form '255.255.255.255') for a host.\n",
        "\n",
        "#Bài 2 )\n",
        "import socket\n",
        "\n",
        "def query_ip_address(host_name):\n",
        "    try:\n",
        "        # Truy vấn địa chỉ IP từ tên của host\n",
        "        ip_address = socket.gethostbyname(host_name)\n",
        "        return f\"Địa chỉ IP của {host_name} là {ip_address}\"\n",
        "    except socket.gaierror:\n",
        "        return f\"Không thể truy vấn địa chỉ IP của {host_name}\"\n",
        "\n",
        "# Ví dụ sử dụng\n",
        "print(query_ip_address(\"255.255.255.256\"))\n",
        "#Kết quả: Không thể truy vấn địa chỉ IP của 255.255.255.256\n",
        "\n",
        "#Giải thích: Giá trị \"255.255.255.256\" không phải là một địa chỉ IP hợp lệ do giá trị của một octet (byte) trong IPv4\n",
        "#chỉ có thể nằm trong phạm vi từ 0 đến 255. Hơn nữa, hàm gethostbyname cố gắng tìm địa chỉ IP tương ứng\n",
        "#với một hostname (tên máy chủ), và \"255.255.255.256\" không phải là một hostname hợp lệ.\n",
        "#Do đó, hàm sẽ không trả về địa chỉ IP và thể hiện lỗi bắt bởi socket.gaierror trong khối except.\n",
        "\n",
        "\n",
        "#Bài 3 )\n",
        "import socket\n",
        "\n",
        "def query_ip_address(host_name):\n",
        "    try:\n",
        "        # Truy vấn địa chỉ IP từ tên của host\n",
        "        ip_address = socket.gethostbyname(host_name)\n",
        "        return f\"Địa chỉ IP của {host_name} là {ip_address}\"\n",
        "    except socket.gaierror:\n",
        "        return f\"Không thể truy vấn địa chỉ IP của {host_name}\"\n",
        "\n",
        "# Vòng lặp để cho phép người dùng liên tục nhập hostname\n",
        "while True:\n",
        "    host_name = input(\"Vui lòng nhập hostname (hoặc nhập 'Q' để thoát): \")\n",
        "\n",
        "    if host_name.upper() == 'Q':\n",
        "        print(\"Chương trình kết thúc. Tạm biệt!\")\n",
        "        break\n",
        "\n",
        "    print(query_ip_address(host_name))\n",
        "\n",
        "\n",
        "#Bài 4 )\n",
        "\n",
        "#Module subprocess trong Python được dùng để chạy và tương tác với các process con, cho phép chạy các lệnh shell và lấy kết quả trả về.\n",
        "#Phương thức chính:\n",
        "#subprocess.run(): Chạy lệnh, chờ lệnh hoàn thành, và trả về đối tượng chứa thông tin như exit code.\n",
        "import subprocess\n",
        "subprocess.run(['dir'], shell=True)\n",
        "#subprocess.call(): Tương tự như run() nhưng chỉ trả về exit code.\n",
        "import subprocess\n",
        "exit_code = subprocess.call('dir', shell=True)\n",
        "#subprocess.Popen(): Để tương tác phức tạp hơn với process con, có thể đọc stdout và stderr.\n",
        "import subprocess\n",
        "\n",
        "process = subprocess.Popen('dir', stdout=subprocess.PIPE, stderr=subprocess.PIPE, shell=True)\n",
        "stdout, stderr = process.communicate()\n",
        "print(\"STDOUT:\", stdout.decode('cp437', errors='ignore'))\n",
        "print(\"STDERR:\", stderr.decode('cp437', errors='ignore'))\n",
        "\n",
        "#Ví dụ minh họa:\n",
        "#Chạy lệnh ping để kiểm tra kết nối đến \"www.google.com\" và lấy exit code.\n",
        "import subprocess\n",
        "address = \"www.google.com\"\n",
        "res = subprocess.call(['ping', '-c', '1', address])\n",
        "if res == 0:\n",
        "    print(f\"ping to {address} OK\")\n",
        "else:\n",
        "    print(f\"ping to {address} failed!\")\n",
        "\n",
        "\n",
        "### END CODE HERE ###10"
      ]
    },
    {
      "cell_type": "code",
      "source": [],
      "metadata": {
        "id": "562wSXrbz526"
      },
      "execution_count": null,
      "outputs": []
    },
    {
      "cell_type": "markdown",
      "metadata": {
        "id": "Mdmau655jMdS"
      },
      "source": [
        "#TÀI LIỆU THAM KHẢO\n",
        "\n",
        "https://www.python-course.eu/conditional_statements.php\n",
        "\n",
        "https://www.w3schools.com/python/python_conditions.asp\n",
        "\n",
        "https://jaxenter.com/differences-python-2-3-148432.html\n",
        "\n",
        "https://jaxenter.com/implement-switch-case-statement-python-138315.html\n",
        "\n",
        "https://www.geeksforgeeks.org/network-scanner-in-python/"
      ]
    }
  ],
  "metadata": {
    "kernelspec": {
      "display_name": "Python 3",
      "language": "python",
      "name": "python3"
    },
    "language_info": {
      "codemirror_mode": {
        "name": "ipython",
        "version": 3
      },
      "file_extension": ".py",
      "mimetype": "text/x-python",
      "name": "python",
      "nbconvert_exporter": "python",
      "pygments_lexer": "ipython3",
      "version": "3.10.8"
    },
    "colab": {
      "provenance": [],
      "include_colab_link": true
    }
  },
  "nbformat": 4,
  "nbformat_minor": 0
}